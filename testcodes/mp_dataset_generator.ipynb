{
 "cells": [
  {
   "cell_type": "code",
   "execution_count": 1,
   "metadata": {},
   "outputs": [],
   "source": [
    "from datagenerator import *"
   ]
  },
  {
   "cell_type": "code",
   "execution_count": 4,
   "metadata": {},
   "outputs": [],
   "source": [
    "data = mp.load()"
   ]
  },
  {
   "cell_type": "code",
   "execution_count": 5,
   "metadata": {},
   "outputs": [
    {
     "ename": "AttributeError",
     "evalue": "module 'os' has no attribute 'cwd'",
     "output_type": "error",
     "traceback": [
      "\u001b[0;31m---------------------------------------------------------------------------\u001b[0m",
      "\u001b[0;31mAttributeError\u001b[0m                            Traceback (most recent call last)",
      "Cell \u001b[0;32mIn[5], line 1\u001b[0m\n\u001b[0;32m----> 1\u001b[0m mp\u001b[39m.\u001b[39;49msave_cif(dataset\u001b[39m=\u001b[39;49mdata)\n",
      "File \u001b[0;32m~/2023/_Reproduce/datagenerator.py:63\u001b[0m, in \u001b[0;36mmp.save_cif\u001b[0;34m(dirname, dataset)\u001b[0m\n\u001b[1;32m     61\u001b[0m     filename \u001b[39m=\u001b[39m dirname\u001b[39m+\u001b[39m\u001b[39m\"\u001b[39m\u001b[39m/\u001b[39m\u001b[39m\"\u001b[39m\u001b[39m+\u001b[39mmp_item[\u001b[39m\"\u001b[39m\u001b[39mid\u001b[39m\u001b[39m\"\u001b[39m]\u001b[39m+\u001b[39m\u001b[39m\"\u001b[39m\u001b[39m.cif\u001b[39m\u001b[39m\"\u001b[39m\n\u001b[1;32m     62\u001b[0m     Atoms\u001b[39m.\u001b[39mfrom_dict(mp_item[\u001b[39m\"\u001b[39m\u001b[39matoms\u001b[39m\u001b[39m\"\u001b[39m])\u001b[39m.\u001b[39mwrite_cif(filename)\n\u001b[0;32m---> 63\u001b[0m \u001b[39mprint\u001b[39m(\u001b[39m\"\u001b[39m\u001b[39mmp megnet .cif data is saved in\u001b[39m\u001b[39m\"\u001b[39m, os\u001b[39m.\u001b[39;49mcwd()\u001b[39m+\u001b[39m\u001b[39m'\u001b[39m\u001b[39m/\u001b[39m\u001b[39m'\u001b[39m\u001b[39m+\u001b[39mdirname)\n",
      "\u001b[0;31mAttributeError\u001b[0m: module 'os' has no attribute 'cwd'"
     ]
    }
   ],
   "source": [
    "mp.save_cif(dataset=data)"
   ]
  },
  {
   "cell_type": "code",
   "execution_count": null,
   "metadata": {},
   "outputs": [],
   "source": []
  }
 ],
 "metadata": {
  "kernelspec": {
   "display_name": "segnn_tut",
   "language": "python",
   "name": "python3"
  },
  "language_info": {
   "codemirror_mode": {
    "name": "ipython",
    "version": 3
   },
   "file_extension": ".py",
   "mimetype": "text/x-python",
   "name": "python",
   "nbconvert_exporter": "python",
   "pygments_lexer": "ipython3",
   "version": "3.10.11"
  },
  "orig_nbformat": 4
 },
 "nbformat": 4,
 "nbformat_minor": 2
}
